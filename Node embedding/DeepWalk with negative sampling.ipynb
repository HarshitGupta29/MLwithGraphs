{
 "cells": [
  {
   "cell_type": "code",
   "execution_count": 66,
   "id": "db9751a0",
   "metadata": {},
   "outputs": [],
   "source": [
    "import tensorflow_probability as tfp\n",
    "import tensorflow as tf\n",
    "import networkit as nit \n",
    "import numpy as np\n",
    "import matplotlib\n",
    "import networkx as nx\n",
    "import matplotlib.pyplot as plt\n",
    "import random\n",
    "import math as m\n",
    "pi = tf.constant(m.pi)"
   ]
  },
  {
   "cell_type": "code",
   "execution_count": 158,
   "id": "6e7a2dce",
   "metadata": {},
   "outputs": [],
   "source": [
    "def loss_func():\n",
    "    loss = 0\n",
    "    for node in graph.iterNodes():\n",
    "        walk = random_walk(node,3)\n",
    "        for i in walk:\n",
    "            p  = tf.transpose(matrix[int(node)])\n",
    "            t = tf.tensordot(p,matrix[int(i)],1)\n",
    "            loss -= tf.math.log(tf.math.abs(tf.math.sigmoid(t)))\n",
    "            for n_i in P_dist():\n",
    "                loss += tf.math.log(tf.math.abs(tf.tensordot(tf.transpose(matrix[node]), matrix[int(n_i)],0)))\n",
    "    return loss"
   ]
  },
  {
   "cell_type": "code",
   "execution_count": 159,
   "id": "3f5576e3",
   "metadata": {},
   "outputs": [],
   "source": [
    "def random_walk(node, walk_len):\n",
    "    lst = [node]\n",
    "    for _ in range(walk_len):\n",
    "        k=[i for i in graph.iterNeighbors(int(lst[-1]))]\n",
    "        if k:\n",
    "            lst.append(np.random.choice(np.asarray(k,dtype=np.float32)))\n",
    "        else:\n",
    "            break\n",
    "    return lst"
   ]
  },
  {
   "cell_type": "code",
   "execution_count": 160,
   "id": "a32274a2",
   "metadata": {},
   "outputs": [],
   "source": [
    "def P_dist():\n",
    "    return np.random.choice(node_list, size = 7, replace = True, p = degree_dist)"
   ]
  },
  {
   "cell_type": "code",
   "execution_count": 161,
   "id": "77f15cc5",
   "metadata": {},
   "outputs": [],
   "source": [
    "def visualize(graph, nodelst = [], lst = []):\n",
    "    ''' visiualizes the graph\n",
    "    '''\n",
    "    plt.clf() #clear the sreen\n",
    "    matrix = nit.algebraic.adjacencyMatrix(graph, matrixType='sparse') #make adjancency matrix of graph to convert it to a graph object of networkx\n",
    "    G2 = nx.from_scipy_sparse_matrix(matrix)# converts the graph\n",
    "    if not lst: #this is for just viewing graph\n",
    "        nx.draw(G2,with_labels=True)\n",
    "    else: #this is for viewing graph with colors to see clusters\n",
    "        colors = [random.uniform(0,0.1) for _ in range(0,len(lst))]\n",
    "        color_lst = []\n",
    "        for i in nodelst:\n",
    "            for index, j in enumerate(lst):\n",
    "                if i in j:\n",
    "                    color_lst.append(colors[index])\n",
    "        nx.draw(G2,nodelist = nodelst ,with_labels=True, node_color = color_lst)\n",
    "    plt.axis('equal')"
   ]
  },
  {
   "cell_type": "code",
   "execution_count": 177,
   "id": "5df08833",
   "metadata": {},
   "outputs": [],
   "source": [
    "#graph = nit.generators.ClusteredRandomGraphGenerator(20,5,0.2,0.4).generate()\n",
    "graph = nit.generators.ErdosRenyiGenerator(10, 0.3, directed = False, selfLoops = False).generate()"
   ]
  },
  {
   "cell_type": "code",
   "execution_count": 178,
   "id": "63fd502c",
   "metadata": {},
   "outputs": [],
   "source": [
    "totalNodes = graph.numberOfNodes()\n",
    "g = tf.random.Generator.from_seed(1234)\n",
    "matrix = g.uniform(shape=(graph.numberOfNodes(),50), minval = 0.001)\n",
    "node_list = tf.convert_to_tensor([i for i in graph.iterNodes()], dtype=tf.float32)\n",
    "total_weight = sum(graph.degree(i) for i in graph.iterNodes())\n",
    "degree_dist = np.asarray([graph.degree(i)/total_weight for i in node_list], dtype=np.float32)"
   ]
  },
  {
   "cell_type": "code",
   "execution_count": 179,
   "id": "38cd2d38",
   "metadata": {
    "scrolled": true
   },
   "outputs": [
    {
     "data": {
      "image/png": "[encoded data removed]",
      "text/plain": [
       "<Figure size 432x288 with 1 Axes>"
      ]
     },
     "metadata": {},
     "output_type": "display_data"
    }
   ],
   "source": [
    "visualize(graph)"
   ]
  },
  {
   "cell_type": "code",
   "execution_count": 180,
   "id": "65c4fbf6",
   "metadata": {
    "scrolled": true
   },
   "outputs": [],
   "source": [
    "opt = tf.keras.optimizers.SGD(learning_rate=0.01)\n",
    "#print(matrix)\n",
    "matrix = tf.Variable(matrix)\n",
    "losses = opt.minimize(loss_func,[matrix])\n",
    "# In TF2/eager mode, the optimization runs immediately.\n",
    "#print(\"optimized value is {} with loss {}\".format(\"h\", loss_func()))\n",
    "#print(matrix)\n"
   ]
  },
  {
   "cell_type": "code",
   "execution_count": 181,
   "id": "bf6b4684",
   "metadata": {
    "scrolled": true
   },
   "outputs": [],
   "source": [
    "def similarity(y_true, y_pred):\n",
    "    coss = tf.keras.losses.CosineSimilarity(axis=0)\n",
    "    return coss(y_true,y_pred).numpy()"
   ]
  },
  {
   "cell_type": "code",
   "execution_count": 182,
   "id": "34266446",
   "metadata": {
    "scrolled": true
   },
   "outputs": [
    {
     "name": "stdout",
     "output_type": "stream",
     "text": [
      "-0.08875821\n"
     ]
    }
   ],
   "source": [
    "print(similarity(matrix[0],matrix[1]))"
   ]
  },
  {
   "cell_type": "code",
   "execution_count": 183,
   "id": "fca2ab0c",
   "metadata": {},
   "outputs": [
    {
     "name": "stdout",
     "output_type": "stream",
     "text": [
      "0 - 0 similarity: -0.9999998807907104\n",
      "0 - 1 similarity: -0.0887582078576088\n",
      "0 - 2 similarity: -0.25992393493652344\n",
      "0 - 3 similarity: -0.30179885029792786\n",
      "0 - 4 similarity: -0.31315767765045166\n",
      "0 - 5 similarity: -0.21336637437343597\n",
      "0 - 6 similarity: -0.24371552467346191\n",
      "0 - 7 similarity: -0.24360117316246033\n",
      "0 - 8 similarity: -0.33695363998413086\n",
      "0 - 9 similarity: -0.1622312366962433\n"
     ]
    }
   ],
   "source": [
    "for i in graph.iterNodes():\n",
    "    print(\"{} - {} similarity: {}\".format(0,i,similarity(matrix[0],matrix[i])))"
   ]
  },
  {
   "cell_type": "code",
   "execution_count": 189,
   "id": "744cd3f9",
   "metadata": {},
   "outputs": [
    {
     "data": {
      "text/html": [
       "$\\sum_{v\\in V}$\n"
      ],
      "text/plain": [
       "<IPython.core.display.HTML object>"
      ]
     },
     "metadata": {},
     "output_type": "display_data"
    }
   ],
   "source": [
    "%%html\n",
    "$\\sum_{v\\in V}$"
   ]
  },
  {
   "cell_type": "code",
   "execution_count": null,
   "id": "92c34f9a",
   "metadata": {},
   "outputs": [],
   "source": []
  }
 ],
 "metadata": {
  "kernelspec": {
   "display_name": "Python 3",
   "language": "python",
   "name": "python3"
  },
  "language_info": {
   "codemirror_mode": {
    "name": "ipython",
    "version": 3
   },
   "file_extension": ".py",
   "mimetype": "text/x-python",
   "name": "python",
   "nbconvert_exporter": "python",
   "pygments_lexer": "ipython3",
   "version": "3.9.5"
  }
 },
 "nbformat": 4,
 "nbformat_minor": 5
}
